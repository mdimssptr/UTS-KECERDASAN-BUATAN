{
  "nbformat": 4,
  "nbformat_minor": 0,
  "metadata": {
    "colab": {
      "provenance": []
    },
    "kernelspec": {
      "name": "python3",
      "display_name": "Python 3"
    },
    "language_info": {
      "name": "python"
    }
  },
  "cells": [
    {
      "cell_type": "code",
      "execution_count": 4,
      "metadata": {
        "colab": {
          "base_uri": "https://localhost:8080/"
        },
        "id": "ae9Y6rP1WyrA",
        "outputId": "c8c230a2-ca57-49e6-c565-c6da48f038d9"
      },
      "outputs": [
        {
          "output_type": "stream",
          "name": "stdout",
          "text": [
            "Jalur terpendek dari Arad ke Bucharest dengan A*: Arad -> Sibiu -> Rimnicu Vilcea -> Pitesti -> Bucharest\n"
          ]
        }
      ],
      "source": [
        "import math\n",
        "\n",
        "# Representasi grafik jarak antar kota yang sudah diperbaiki\n",
        "graph = {\n",
        "    'Arad': {'Zerind': 75, 'Sibiu': 140, 'Timisoara': 118},\n",
        "    'Bucharest': {},\n",
        "    'Craiova': {'Dobreta': 120, 'Rimnicu Vilcea': 146, 'Pitesti': 138},\n",
        "    'Dobreta': {'Mehadia': 75, 'Craiova': 120},\n",
        "    'Eforie': {},\n",
        "    'Fagaras': {'Sibiu': 99, 'Bucharest': 211},\n",
        "    'Giurgiu': {},\n",
        "    'Hirsova': {'Eforie': 86, 'Urziceni': 98},\n",
        "    'Iasi': {'Neamt': 87, 'Vaslui': 92},\n",
        "    'Lugoj': {'Timisoara': 111, 'Mehadia': 70},\n",
        "    'Mehadia': {'Lugoj': 70, 'Dobreta': 75},\n",
        "    'Neamt': {},\n",
        "    'Oradea': {'Zerind': 71, 'Sibiu': 151},\n",
        "    'Pitesti': {'Craiova': 138, 'Rimnicu Vilcea': 97, 'Bucharest': 101},\n",
        "    'Rimnicu Vilcea': {'Sibiu': 80, 'Craiova': 146, 'Pitesti': 97},\n",
        "    'Sibiu': {'Fagaras': 99, 'Rimnicu Vilcea': 80, 'Arad': 140, 'Oradea': 151},\n",
        "    'Timisoara': {'Arad': 118, 'Lugoj': 111},\n",
        "    'Urziceni': {'Hirsova': 98, 'Vaslui': 142, 'Bucharest': 85},\n",
        "    'Vaslui': {'Iasi': 92, 'Urziceni': 142},\n",
        "    'Zerind': {'Arad': 75, 'Oradea': 71}\n",
        "}\n",
        "\n",
        "# Heuristic function using straight-line distance to Bucharest\n",
        "heuristic = {\n",
        "    'Arad': 366,\n",
        "    'Bucharest': 0,\n",
        "    'Craiova': 160,\n",
        "    'Dobreta': 242,\n",
        "    'Eforie': 161,\n",
        "    'Fagaras': 176,\n",
        "    'Giurgiu': 77,\n",
        "    'Hirsova': 151,\n",
        "    'Iasi': 226,\n",
        "    'Lugoj': 244,\n",
        "    'Mehadia': 241,\n",
        "    'Neamt': 234,\n",
        "    'Oradea': 380,\n",
        "    'Pitesti': 100,\n",
        "    'Rimnicu Vilcea': 193,\n",
        "    'Sibiu': 253,\n",
        "    'Timisoara': 329,\n",
        "    'Urziceni': 80,\n",
        "    'Vaslui': 199,\n",
        "    'Zerind': 374\n",
        "}\n",
        "\n",
        "# A* Search with heuristic\n",
        "def astar(graph, start, goal, heuristic):\n",
        "    open_set = [(start, [start], 0, heuristic[start])]\n",
        "    while open_set:\n",
        "        open_set.sort(key=lambda x: x[2] + x[3])\n",
        "        (node, path, cost, h) = open_set.pop(0)\n",
        "        if node == goal:\n",
        "            return path\n",
        "        for neighbor in set(graph[node].keys()) - set(path):\n",
        "            new_cost = cost + graph[node][neighbor]\n",
        "            open_set.append((neighbor, path + [neighbor], new_cost, heuristic[neighbor]))\n",
        "\n",
        "# Contoh penggunaan A* Search\n",
        "start_city = 'Arad'\n",
        "goal_city = 'Bucharest'\n",
        "\n",
        "astar_path = astar(graph, start_city, goal_city, heuristic)\n",
        "\n",
        "print(\"Jalur terpendek dari\", start_city, \"ke\", goal_city, \"dengan A*:\", \" -> \".join(astar_path))"
      ]
    },
    {
      "cell_type": "code",
      "source": [],
      "metadata": {
        "id": "4s-Sj3ykW3dR"
      },
      "execution_count": null,
      "outputs": []
    }
  ]
}